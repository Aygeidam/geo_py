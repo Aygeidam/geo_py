{
 "cells": [
  {
   "cell_type": "markdown",
   "metadata": {},
   "source": [
    "\n",
    "<img style=\"float: right;\" src=\"data/logo.png\" width= \"200\" height = \"200\">\n",
    "\n",
    "# EART23202: Intro to Python lab\n",
    "\n",
    "\n",
    "\n",
    "\n",
    "_____________"
   ]
  },
  {
   "cell_type": "markdown",
   "metadata": {},
   "source": [
    "### 1) Import the Python packages we are going to use (like downloading apps to your phone)"
   ]
  },
  {
   "cell_type": "code",
   "execution_count": 1,
   "metadata": {
    "scrolled": true
   },
   "outputs": [],
   "source": [
    "import numpy as np\n",
    "import pandas as pd\n",
    "import matplotlib.pyplot as plt\n",
    "from scipy import stats"
   ]
  },
  {
   "cell_type": "markdown",
   "metadata": {},
   "source": [
    "### 2) Load our field data from Excel using a package called 'Pandas' (like Excel for Python) and call our data 'field_data'"
   ]
  },
  {
   "cell_type": "code",
   "execution_count": 2,
   "metadata": {
    "scrolled": true
   },
   "outputs": [],
   "source": [
    "field_data = pd.read_excel('data/data.xlsx')"
   ]
  },
  {
   "cell_type": "code",
   "execution_count": 3,
   "metadata": {},
   "outputs": [
    {
     "data": {
      "text/html": [
       "<div>\n",
       "<style scoped>\n",
       "    .dataframe tbody tr th:only-of-type {\n",
       "        vertical-align: middle;\n",
       "    }\n",
       "\n",
       "    .dataframe tbody tr th {\n",
       "        vertical-align: top;\n",
       "    }\n",
       "\n",
       "    .dataframe thead th {\n",
       "        text-align: right;\n",
       "    }\n",
       "</style>\n",
       "<table border=\"1\" class=\"dataframe\">\n",
       "  <thead>\n",
       "    <tr style=\"text-align: right;\">\n",
       "      <th></th>\n",
       "      <th>height</th>\n",
       "      <th>bed_number</th>\n",
       "      <th>bed_thickness</th>\n",
       "      <th>grainsize</th>\n",
       "      <th>paleocurrent</th>\n",
       "      <th>strike</th>\n",
       "      <th>dip</th>\n",
       "      <th>formation</th>\n",
       "      <th>d18O</th>\n",
       "    </tr>\n",
       "  </thead>\n",
       "  <tbody>\n",
       "    <tr>\n",
       "      <th>0</th>\n",
       "      <td>0.83</td>\n",
       "      <td>1</td>\n",
       "      <td>2.60</td>\n",
       "      <td>0</td>\n",
       "      <td>309</td>\n",
       "      <td>NaN</td>\n",
       "      <td>NaN</td>\n",
       "      <td>Sheffield Formation</td>\n",
       "      <td>0.09</td>\n",
       "    </tr>\n",
       "    <tr>\n",
       "      <th>1</th>\n",
       "      <td>0.75</td>\n",
       "      <td>2</td>\n",
       "      <td>2.88</td>\n",
       "      <td>0</td>\n",
       "      <td>310</td>\n",
       "      <td>256.0</td>\n",
       "      <td>42.0</td>\n",
       "      <td>Sheffield Formation</td>\n",
       "      <td>0.25</td>\n",
       "    </tr>\n",
       "    <tr>\n",
       "      <th>2</th>\n",
       "      <td>9.82</td>\n",
       "      <td>3</td>\n",
       "      <td>3.36</td>\n",
       "      <td>0</td>\n",
       "      <td>296</td>\n",
       "      <td>NaN</td>\n",
       "      <td>NaN</td>\n",
       "      <td>Sheffield Formation</td>\n",
       "      <td>0.16</td>\n",
       "    </tr>\n",
       "    <tr>\n",
       "      <th>3</th>\n",
       "      <td>12.75</td>\n",
       "      <td>4</td>\n",
       "      <td>3.37</td>\n",
       "      <td>0</td>\n",
       "      <td>292</td>\n",
       "      <td>232.0</td>\n",
       "      <td>38.0</td>\n",
       "      <td>Sheffield Formation</td>\n",
       "      <td>0.21</td>\n",
       "    </tr>\n",
       "    <tr>\n",
       "      <th>4</th>\n",
       "      <td>20.16</td>\n",
       "      <td>5</td>\n",
       "      <td>0.08</td>\n",
       "      <td>0</td>\n",
       "      <td>287</td>\n",
       "      <td>NaN</td>\n",
       "      <td>NaN</td>\n",
       "      <td>Sheffield Formation</td>\n",
       "      <td>0.19</td>\n",
       "    </tr>\n",
       "    <tr>\n",
       "      <th>...</th>\n",
       "      <td>...</td>\n",
       "      <td>...</td>\n",
       "      <td>...</td>\n",
       "      <td>...</td>\n",
       "      <td>...</td>\n",
       "      <td>...</td>\n",
       "      <td>...</td>\n",
       "      <td>...</td>\n",
       "      <td>...</td>\n",
       "    </tr>\n",
       "    <tr>\n",
       "      <th>95</th>\n",
       "      <td>1488.43</td>\n",
       "      <td>96</td>\n",
       "      <td>42.25</td>\n",
       "      <td>6</td>\n",
       "      <td>355</td>\n",
       "      <td>232.0</td>\n",
       "      <td>30.0</td>\n",
       "      <td>Manchester Formation</td>\n",
       "      <td>0.82</td>\n",
       "    </tr>\n",
       "    <tr>\n",
       "      <th>96</th>\n",
       "      <td>1523.87</td>\n",
       "      <td>97</td>\n",
       "      <td>26.95</td>\n",
       "      <td>5</td>\n",
       "      <td>351</td>\n",
       "      <td>NaN</td>\n",
       "      <td>NaN</td>\n",
       "      <td>Manchester Formation</td>\n",
       "      <td>1.05</td>\n",
       "    </tr>\n",
       "    <tr>\n",
       "      <th>97</th>\n",
       "      <td>1556.05</td>\n",
       "      <td>98</td>\n",
       "      <td>38.01</td>\n",
       "      <td>5</td>\n",
       "      <td>355</td>\n",
       "      <td>226.0</td>\n",
       "      <td>31.0</td>\n",
       "      <td>Manchester Formation</td>\n",
       "      <td>1.00</td>\n",
       "    </tr>\n",
       "    <tr>\n",
       "      <th>98</th>\n",
       "      <td>1579.83</td>\n",
       "      <td>99</td>\n",
       "      <td>31.35</td>\n",
       "      <td>5</td>\n",
       "      <td>354</td>\n",
       "      <td>NaN</td>\n",
       "      <td>NaN</td>\n",
       "      <td>Manchester Formation</td>\n",
       "      <td>0.95</td>\n",
       "    </tr>\n",
       "    <tr>\n",
       "      <th>99</th>\n",
       "      <td>1623.69</td>\n",
       "      <td>100</td>\n",
       "      <td>35.41</td>\n",
       "      <td>5</td>\n",
       "      <td>354</td>\n",
       "      <td>260.0</td>\n",
       "      <td>29.0</td>\n",
       "      <td>Manchester Formation</td>\n",
       "      <td>1.10</td>\n",
       "    </tr>\n",
       "  </tbody>\n",
       "</table>\n",
       "<p>100 rows × 9 columns</p>\n",
       "</div>"
      ],
      "text/plain": [
       "     height  bed_number  bed_thickness  grainsize  paleocurrent  strike   dip  \\\n",
       "0      0.83           1           2.60          0           309     NaN   NaN   \n",
       "1      0.75           2           2.88          0           310   256.0  42.0   \n",
       "2      9.82           3           3.36          0           296     NaN   NaN   \n",
       "3     12.75           4           3.37          0           292   232.0  38.0   \n",
       "4     20.16           5           0.08          0           287     NaN   NaN   \n",
       "..      ...         ...            ...        ...           ...     ...   ...   \n",
       "95  1488.43          96          42.25          6           355   232.0  30.0   \n",
       "96  1523.87          97          26.95          5           351     NaN   NaN   \n",
       "97  1556.05          98          38.01          5           355   226.0  31.0   \n",
       "98  1579.83          99          31.35          5           354     NaN   NaN   \n",
       "99  1623.69         100          35.41          5           354   260.0  29.0   \n",
       "\n",
       "               formation  d18O  \n",
       "0    Sheffield Formation  0.09  \n",
       "1    Sheffield Formation  0.25  \n",
       "2    Sheffield Formation  0.16  \n",
       "3    Sheffield Formation  0.21  \n",
       "4    Sheffield Formation  0.19  \n",
       "..                   ...   ...  \n",
       "95  Manchester Formation  0.82  \n",
       "96  Manchester Formation  1.05  \n",
       "97  Manchester Formation  1.00  \n",
       "98  Manchester Formation  0.95  \n",
       "99  Manchester Formation  1.10  \n",
       "\n",
       "[100 rows x 9 columns]"
      ]
     },
     "execution_count": 3,
     "metadata": {},
     "output_type": "execute_result"
    }
   ],
   "source": [
    "field_data"
   ]
  },
  {
   "cell_type": "code",
   "execution_count": 4,
   "metadata": {},
   "outputs": [
    {
     "data": {
      "text/plain": [
       "0      2.60\n",
       "1      2.88\n",
       "2      3.36\n",
       "3      3.37\n",
       "4      0.08\n",
       "      ...  \n",
       "95    42.25\n",
       "96    26.95\n",
       "97    38.01\n",
       "98    31.35\n",
       "99    35.41\n",
       "Name: bed_thickness, Length: 100, dtype: float64"
      ]
     },
     "execution_count": 4,
     "metadata": {},
     "output_type": "execute_result"
    }
   ],
   "source": [
    "field_data.bed_thickness"
   ]
  },
  {
   "cell_type": "markdown",
   "metadata": {},
   "source": [
    "### 3) Plot our data using the package 'Matplotlib' (this is what the black hole was plotted with)"
   ]
  },
  {
   "cell_type": "code",
   "execution_count": 5,
   "metadata": {
    "scrolled": false
   },
   "outputs": [
    {
     "data": {
      "image/png": "[encoded data removed]",
      "text/plain": [
       "<Figure size 576x576 with 2 Axes>"
      ]
     },
     "metadata": {
      "needs_background": "light"
     },
     "output_type": "display_data"
    }
   ],
   "source": [
    "fig, ax = plt.subplots(figsize = (8, 8), ncols = 2)\n",
    "\n",
    "ax[0].plot(field_data.bed_thickness, field_data.bed_number, color = 'black')\n",
    "ax[0].set(xlabel = 'bed thickness (cm)', ylabel = 'bed number (n)')\n",
    "\n",
    "ax[1].plot(field_data.d18O, field_data.bed_number, color = 'tab:blue')\n",
    "ax[1].set(xlabel = 'd18O', ylabel = 'bed number (n)')\n",
    "\n",
    "plt.tight_layout()"
   ]
  },
  {
   "cell_type": "markdown",
   "metadata": {},
   "source": [
    "### 4) Check the Spearman Rank correlation between bed thickness and d18O (using the package 'Scipy')"
   ]
  },
  {
   "cell_type": "code",
   "execution_count": 6,
   "metadata": {},
   "outputs": [
    {
     "data": {
      "text/plain": [
       "SpearmanrResult(correlation=0.6031436013282023, pvalue=3.1202409170987035e-11)"
      ]
     },
     "execution_count": 6,
     "metadata": {},
     "output_type": "execute_result"
    }
   ],
   "source": [
    "stats.spearmanr(field_data.bed_thickness, field_data.d18O)"
   ]
  },
  {
   "cell_type": "markdown",
   "metadata": {},
   "source": [
    "______"
   ]
  },
  {
   "cell_type": "markdown",
   "metadata": {},
   "source": [
    "# Questions\n",
    "1. What could be causing this relationship?\n",
    "2. Why is the d18O 'spiky'?\n",
    "3. Why are their bigger spikes in the upper part of the section?\n",
    "4. What about grain size? or paleocurrent direction? Any trends?"
   ]
  },
  {
   "cell_type": "code",
   "execution_count": null,
   "metadata": {},
   "outputs": [],
   "source": []
  }
 ],
 "metadata": {
  "kernelspec": {
   "display_name": "general",
   "language": "python",
   "name": "general"
  },
  "language_info": {
   "codemirror_mode": {
    "name": "ipython",
    "version": 3
   },
   "file_extension": ".py",
   "mimetype": "text/x-python",
   "name": "python",
   "nbconvert_exporter": "python",
   "pygments_lexer": "ipython3",
   "version": "3.7.7"
  }
 },
 "nbformat": 4,
 "nbformat_minor": 4
}
