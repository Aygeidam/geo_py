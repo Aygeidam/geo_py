{
 "cells": [
  {
   "cell_type": "code",
   "execution_count": 99,
   "metadata": {},
   "outputs": [],
   "source": [
    "import numpy as np\n",
    "import pandas as pd\n",
    "import matplotlib.pyplot as plt"
   ]
  },
  {
   "cell_type": "code",
   "execution_count": 100,
   "metadata": {},
   "outputs": [],
   "source": [
    "df = pd.DataFrame(columns = ['bed', 'thickness', 'grainsize', 'paleocurrent', 'strike', 'dip'])"
   ]
  },
  {
   "cell_type": "code",
   "execution_count": 101,
   "metadata": {},
   "outputs": [],
   "source": [
    "N = 100"
   ]
  },
  {
   "cell_type": "code",
   "execution_count": 102,
   "metadata": {},
   "outputs": [],
   "source": [
    "df['bed'] = np.linspace(1, 101, N)"
   ]
  },
  {
   "cell_type": "code",
   "execution_count": 103,
   "metadata": {},
   "outputs": [],
   "source": [
    "df['thickness'] = np.linspace(10, 60, N) + np.random.normal(0, 9, N)"
   ]
  },
  {
   "cell_type": "code",
   "execution_count": 104,
   "metadata": {},
   "outputs": [
    {
     "data": {
      "text/html": [
       "<div>\n",
       "<style scoped>\n",
       "    .dataframe tbody tr th:only-of-type {\n",
       "        vertical-align: middle;\n",
       "    }\n",
       "\n",
       "    .dataframe tbody tr th {\n",
       "        vertical-align: top;\n",
       "    }\n",
       "\n",
       "    .dataframe thead th {\n",
       "        text-align: right;\n",
       "    }\n",
       "</style>\n",
       "<table border=\"1\" class=\"dataframe\">\n",
       "  <thead>\n",
       "    <tr style=\"text-align: right;\">\n",
       "      <th></th>\n",
       "      <th>bed</th>\n",
       "      <th>thickness</th>\n",
       "      <th>grainsize</th>\n",
       "      <th>paleocurrent</th>\n",
       "      <th>strike</th>\n",
       "      <th>dip</th>\n",
       "    </tr>\n",
       "  </thead>\n",
       "  <tbody>\n",
       "    <tr>\n",
       "      <th>0</th>\n",
       "      <td>1.000000</td>\n",
       "      <td>-4.062040</td>\n",
       "      <td>2.0</td>\n",
       "      <td>NaN</td>\n",
       "      <td>NaN</td>\n",
       "      <td>NaN</td>\n",
       "    </tr>\n",
       "    <tr>\n",
       "      <th>1</th>\n",
       "      <td>2.010101</td>\n",
       "      <td>17.887620</td>\n",
       "      <td>2.0</td>\n",
       "      <td>NaN</td>\n",
       "      <td>NaN</td>\n",
       "      <td>NaN</td>\n",
       "    </tr>\n",
       "    <tr>\n",
       "      <th>2</th>\n",
       "      <td>3.020202</td>\n",
       "      <td>38.002234</td>\n",
       "      <td>2.0</td>\n",
       "      <td>NaN</td>\n",
       "      <td>NaN</td>\n",
       "      <td>NaN</td>\n",
       "    </tr>\n",
       "    <tr>\n",
       "      <th>3</th>\n",
       "      <td>4.030303</td>\n",
       "      <td>15.193090</td>\n",
       "      <td>1.0</td>\n",
       "      <td>NaN</td>\n",
       "      <td>NaN</td>\n",
       "      <td>NaN</td>\n",
       "    </tr>\n",
       "    <tr>\n",
       "      <th>4</th>\n",
       "      <td>5.040404</td>\n",
       "      <td>19.717437</td>\n",
       "      <td>1.0</td>\n",
       "      <td>NaN</td>\n",
       "      <td>NaN</td>\n",
       "      <td>NaN</td>\n",
       "    </tr>\n",
       "    <tr>\n",
       "      <th>...</th>\n",
       "      <td>...</td>\n",
       "      <td>...</td>\n",
       "      <td>...</td>\n",
       "      <td>...</td>\n",
       "      <td>...</td>\n",
       "      <td>...</td>\n",
       "    </tr>\n",
       "    <tr>\n",
       "      <th>95</th>\n",
       "      <td>96.959596</td>\n",
       "      <td>55.385476</td>\n",
       "      <td>5.0</td>\n",
       "      <td>NaN</td>\n",
       "      <td>NaN</td>\n",
       "      <td>NaN</td>\n",
       "    </tr>\n",
       "    <tr>\n",
       "      <th>96</th>\n",
       "      <td>97.969697</td>\n",
       "      <td>63.852238</td>\n",
       "      <td>5.0</td>\n",
       "      <td>NaN</td>\n",
       "      <td>NaN</td>\n",
       "      <td>NaN</td>\n",
       "    </tr>\n",
       "    <tr>\n",
       "      <th>97</th>\n",
       "      <td>98.979798</td>\n",
       "      <td>67.665348</td>\n",
       "      <td>4.0</td>\n",
       "      <td>NaN</td>\n",
       "      <td>NaN</td>\n",
       "      <td>NaN</td>\n",
       "    </tr>\n",
       "    <tr>\n",
       "      <th>98</th>\n",
       "      <td>99.989899</td>\n",
       "      <td>53.910115</td>\n",
       "      <td>3.0</td>\n",
       "      <td>NaN</td>\n",
       "      <td>NaN</td>\n",
       "      <td>NaN</td>\n",
       "    </tr>\n",
       "    <tr>\n",
       "      <th>99</th>\n",
       "      <td>101.000000</td>\n",
       "      <td>73.383965</td>\n",
       "      <td>6.0</td>\n",
       "      <td>NaN</td>\n",
       "      <td>NaN</td>\n",
       "      <td>NaN</td>\n",
       "    </tr>\n",
       "  </tbody>\n",
       "</table>\n",
       "<p>100 rows × 6 columns</p>\n",
       "</div>"
      ],
      "text/plain": [
       "           bed  thickness  grainsize paleocurrent strike  dip\n",
       "0     1.000000  -4.062040        2.0          NaN    NaN  NaN\n",
       "1     2.010101  17.887620        2.0          NaN    NaN  NaN\n",
       "2     3.020202  38.002234        2.0          NaN    NaN  NaN\n",
       "3     4.030303  15.193090        1.0          NaN    NaN  NaN\n",
       "4     5.040404  19.717437        1.0          NaN    NaN  NaN\n",
       "..         ...        ...        ...          ...    ...  ...\n",
       "95   96.959596  55.385476        5.0          NaN    NaN  NaN\n",
       "96   97.969697  63.852238        5.0          NaN    NaN  NaN\n",
       "97   98.979798  67.665348        4.0          NaN    NaN  NaN\n",
       "98   99.989899  53.910115        3.0          NaN    NaN  NaN\n",
       "99  101.000000  73.383965        6.0          NaN    NaN  NaN\n",
       "\n",
       "[100 rows x 6 columns]"
      ]
     },
     "execution_count": 104,
     "metadata": {},
     "output_type": "execute_result"
    }
   ],
   "source": [
    "df['grainsize'] = np.geomspace(1, 5, N) + np.random.normal(0, 1, N)\n",
    "df['grainsize'] = df['grainsize'].round(0)\n",
    "\n",
    "# gsize = ['m', 's', 'fs', 'ms', 'cs', 'cg', 'cg']\n",
    "\n",
    "# df['grainsize'] = df['grainsize'].replace(0., gsize[0])\n",
    "# df['grainsize'] = df['grainsize'].replace(1., gsize[0])\n",
    "# df['grainsize'] = df['grainsize'].replace(2., gsize[1])\n",
    "# df['grainsize'] = df['grainsize'].replace(3., gsize[1])\n",
    "# df['grainsize'] = df['grainsize'].replace(4., gsize[2])\n",
    "# df['grainsize'] = df['grainsize'].replace(5., gsize[3])\n",
    "# df['grainsize'] = df['grainsize'].replace(6., gsize[4])\n",
    "# df['grainsize'] = df['grainsize'].replace(7., gsize[5])\n",
    "# df['grainsize'] = df['grainsize'].replace(8., gsize[6])\n",
    "\n",
    "df"
   ]
  },
  {
   "cell_type": "code",
   "execution_count": 105,
   "metadata": {},
   "outputs": [],
   "source": [
    "x = np.linspace(310, 10, 50) + np.random.normal(0, 2, 50)\n",
    "x1 = np.linspace(360, 355, 50) + np.random.normal(0, 2, 50)\n",
    "df['paleocurrent'] = np.concatenate((x, x1))"
   ]
  },
  {
   "cell_type": "code",
   "execution_count": 106,
   "metadata": {},
   "outputs": [
    {
     "name": "stderr",
     "output_type": "stream",
     "text": [
      "/opt/anaconda3/envs/general/lib/python3.7/site-packages/pandas/core/indexing.py:670: SettingWithCopyWarning: \n",
      "A value is trying to be set on a copy of a slice from a DataFrame\n",
      "\n",
      "See the caveats in the documentation: https://pandas.pydata.org/pandas-docs/stable/user_guide/indexing.html#returning-a-view-versus-a-copy\n",
      "  iloc._setitem_with_indexer(indexer, value)\n"
     ]
    }
   ],
   "source": [
    "x = np.random.uniform(low = 220, high = 240, size = 100) + np.random.normal(0, 10, 100)\n",
    "df['strike'] = x\n",
    "df['strike'].iloc[::2] = None"
   ]
  },
  {
   "cell_type": "code",
   "execution_count": 107,
   "metadata": {},
   "outputs": [],
   "source": [
    "x = np.linspace(40, 35, 50) + np.random.normal(0, 2, 50)\n",
    "x1 = np.linspace(35, 30, 50) + np.random.normal(0, 2, 50)\n",
    "df['dip'] = np.concatenate((x, x1))\n",
    "df['dip'].iloc[::2] = None"
   ]
  },
  {
   "cell_type": "code",
   "execution_count": 108,
   "metadata": {},
   "outputs": [],
   "source": [
    "cols = ['grainsize', 'paleocurrent', 'strike', 'dip']\n",
    "cols1 = ['bed', 'thickness']\n",
    "\n",
    "df[cols] = df[cols].round(0)\n",
    "df[cols1] = df[cols1].round(2)"
   ]
  },
  {
   "cell_type": "code",
   "execution_count": 109,
   "metadata": {},
   "outputs": [],
   "source": [
    "df.to_excel('data.xlsx')  "
   ]
  },
  {
   "cell_type": "code",
   "execution_count": null,
   "metadata": {},
   "outputs": [],
   "source": []
  },
  {
   "cell_type": "code",
   "execution_count": null,
   "metadata": {},
   "outputs": [],
   "source": []
  }
 ],
 "metadata": {
  "kernelspec": {
   "display_name": "general",
   "language": "python",
   "name": "general"
  },
  "language_info": {
   "codemirror_mode": {
    "name": "ipython",
    "version": 3
   },
   "file_extension": ".py",
   "mimetype": "text/x-python",
   "name": "python",
   "nbconvert_exporter": "python",
   "pygments_lexer": "ipython3",
   "version": "3.7.7"
  }
 },
 "nbformat": 4,
 "nbformat_minor": 4
}
