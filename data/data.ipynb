{
 "cells": [
  {
   "cell_type": "code",
   "execution_count": 223,
   "metadata": {},
   "outputs": [],
   "source": [
    "import numpy as np\n",
    "import pandas as pd\n",
    "import matplotlib.pyplot as plt"
   ]
  },
  {
   "cell_type": "code",
   "execution_count": 224,
   "metadata": {},
   "outputs": [],
   "source": [
    "df = pd.DataFrame(columns = ['bed', 'thickness', 'grainsize', 'paleocurrent', 'strike', 'dip'])"
   ]
  },
  {
   "cell_type": "code",
   "execution_count": 225,
   "metadata": {},
   "outputs": [],
   "source": [
    "df['bed'] = np.linspace(1, 101, N)"
   ]
  },
  {
   "cell_type": "code",
   "execution_count": 226,
   "metadata": {},
   "outputs": [],
   "source": [
    "df['thickness'] = np.linspace(1, 51, N) + np.random.normal(0, 1, N)"
   ]
  },
  {
   "cell_type": "code",
   "execution_count": 227,
   "metadata": {},
   "outputs": [],
   "source": [
    "df['grainsize'] = np.linspace(1, 6, N) + np.random.normal(0, 0.5, N)"
   ]
  },
  {
   "cell_type": "code",
   "execution_count": 228,
   "metadata": {},
   "outputs": [],
   "source": [
    "x = np.linspace(310, 10, 50) + np.random.normal(0, 2, 50)\n",
    "x1 = np.linspace(360, 355, 50) + np.random.normal(0, 2, 50)\n",
    "df['paleocurrent'] = np.concatenate((x, x1))"
   ]
  },
  {
   "cell_type": "code",
   "execution_count": 229,
   "metadata": {},
   "outputs": [],
   "source": [
    "x = np.random.uniform(low = 220, high = 240, size = 100) + np.random.normal(0, 10, 100)\n",
    "df['strike'] = x\n",
    "df['strike'].iloc[::2] = None"
   ]
  },
  {
   "cell_type": "code",
   "execution_count": 230,
   "metadata": {},
   "outputs": [],
   "source": [
    "x = np.linspace(40, 35, 50) + np.random.normal(0, 2, 50)\n",
    "x1 = np.linspace(35, 30, 50) + np.random.normal(0, 2, 50)\n",
    "df['dip'] = np.concatenate((x, x1))\n",
    "df['dip'].iloc[::2] = None"
   ]
  },
  {
   "cell_type": "code",
   "execution_count": 231,
   "metadata": {},
   "outputs": [],
   "source": [
    "cols = ['grainsize', 'paleocurrent', 'strike', 'dip']\n",
    "cols1 = ['bed', 'thickness']\n",
    "\n",
    "df[cols] = df[cols].round(0)\n",
    "df[cols1] = df[cols1].round(2)"
   ]
  },
  {
   "cell_type": "code",
   "execution_count": 232,
   "metadata": {},
   "outputs": [],
   "source": [
    "df.to_excel('data/data.xlsx')  "
   ]
  },
  {
   "cell_type": "code",
   "execution_count": null,
   "metadata": {},
   "outputs": [],
   "source": []
  }
 ],
 "metadata": {
  "kernelspec": {
   "display_name": "general",
   "language": "python",
   "name": "general"
  },
  "language_info": {
   "codemirror_mode": {
    "name": "ipython",
    "version": 3
   },
   "file_extension": ".py",
   "mimetype": "text/x-python",
   "name": "python",
   "nbconvert_exporter": "python",
   "pygments_lexer": "ipython3",
   "version": "3.7.7"
  }
 },
 "nbformat": 4,
 "nbformat_minor": 4
}
